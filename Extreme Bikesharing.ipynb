{
 "cells": [
  {
   "cell_type": "code",
   "execution_count": 1,
   "metadata": {},
   "outputs": [],
   "source": [
    "# show result of last expression even if it was an assignment\n",
    "from IPython.core.interactiveshell import InteractiveShell\n",
    "InteractiveShell.ast_node_interactivity = \"last_expr_or_assign\""
   ]
  },
  {
   "cell_type": "markdown",
   "metadata": {},
   "source": [
    "# Step 1: The Station List"
   ]
  },
  {
   "cell_type": "code",
   "execution_count": null,
   "metadata": {
    "scrolled": true
   },
   "outputs": [],
   "source": [
    "import json\n",
    "from pathlib import Path\n",
    "\n",
    "# JSON data from \n",
    "# https://layer.bicyclesharing.net/map/v1/fgb/map-inventory\n",
    "map_json_path = Path(\"./map.json\")\n",
    "with map_json_path.open() as f:\n",
    "    map_json = json.load(f)\n",
    "    \n",
    "map_json"
   ]
  },
  {
   "cell_type": "code",
   "execution_count": null,
   "metadata": {},
   "outputs": [],
   "source": [
    "from typing import NamedTuple\n",
    "\n",
    "class Station(NamedTuple):\n",
    "    lat: float\n",
    "    lon: float\n",
    "    name: str\n",
    "    id: str\n",
    "       \n",
    "    @property\n",
    "    def lonlat(self):\n",
    "        return self.lon, self.lat\n",
    "       \n",
    "    @property\n",
    "    def latlon(self):\n",
    "        return self.lat, self.lon\n",
    "        \n",
    "    def __repr__(self):\n",
    "        return f\"{self.lat:9.4f} {self.lon:9.4f} {self.id:10} {self.name[:30]}\""
   ]
  },
  {
   "cell_type": "code",
   "execution_count": null,
   "metadata": {},
   "outputs": [],
   "source": [
    "stations = [Station(\n",
    "    lat=feature[\"geometry\"][\"coordinates\"][1],\n",
    "    lon=feature[\"geometry\"][\"coordinates\"][0],\n",
    "    name=feature[\"properties\"][\"name\"],\n",
    "    id=feature[\"properties\"][\"terminal\"],\n",
    ") for feature in map_json[\"features\"] if feature[\"properties\"][\"installed\"]]"
   ]
  },
  {
   "cell_type": "code",
   "execution_count": null,
   "metadata": {},
   "outputs": [],
   "source": [
    "from collections import Counter\n",
    "prefixes = Counter([st.id.split(\"-\")[0] for st in stations])\n",
    "prefixes.most_common()"
   ]
  },
  {
   "cell_type": "code",
   "execution_count": null,
   "metadata": {},
   "outputs": [],
   "source": [
    "stations = [st for st in stations if st.id[:2] in {\"OK\", \"BK\", \"EM\"}]\n",
    "len(stations)"
   ]
  },
  {
   "cell_type": "markdown",
   "metadata": {},
   "source": [
    "# Step 2: Folium for Mapping"
   ]
  },
  {
   "cell_type": "code",
   "execution_count": null,
   "metadata": {
    "scrolled": false
   },
   "outputs": [],
   "source": [
    "import folium\n",
    "\n",
    "def basemap(stations):\n",
    "    center_lat = 0.5 * (min(st.lat for st in stations) + max(st.lat for st in stations))\n",
    "    center_lon = 0.5 * (min(st.lon for st in stations) + max(st.lon for st in stations))\n",
    "    \n",
    "    mymap = folium.Map(\n",
    "        location=[center_lat, center_lon], \n",
    "        zoom_start=12,\n",
    "        tiles='Stamen Terrain',\n",
    "    )\n",
    "\n",
    "    for st in stations:\n",
    "        folium.Circle(\n",
    "            location=st.latlon, \n",
    "            radius=50,\n",
    "            popup=f\"<strong>{st.id}</strong> {st.name}\",\n",
    "            color='red',\n",
    "            fill=True,\n",
    "            fill_color='red',\n",
    "            fill_opacity=1.0,\n",
    "        ).add_to(mymap)\n",
    "        \n",
    "    return mymap\n",
    "\n",
    "basemap(stations)"
   ]
  },
  {
   "cell_type": "markdown",
   "metadata": {},
   "source": [
    "# Step 3: Traveling Salesman with OR Tools"
   ]
  },
  {
   "cell_type": "code",
   "execution_count": null,
   "metadata": {},
   "outputs": [],
   "source": [
    "from ortools.constraint_solver import routing_enums_pb2\n",
    "from ortools.constraint_solver import pywrapcp\n",
    "\n",
    "manager = pywrapcp.RoutingIndexManager(\n",
    "    len(stations),  # number of stations\n",
    "    1,              # number of vehicles\n",
    "    0,              # index of start/finish station\n",
    ")\n",
    "routing = pywrapcp.RoutingModel(manager)"
   ]
  },
  {
   "cell_type": "code",
   "execution_count": null,
   "metadata": {},
   "outputs": [],
   "source": [
    "from geopy.distance import distance\n",
    "\n",
    "def as_the_bird_flies(from_station: Station, to_station: Station):\n",
    "    \"\"\"Returns distance between two stations in whole meters\"\"\"\n",
    "    dist = distance(from_station.latlon, to_station.latlon)\n",
    "    return int(dist.meters)  \n",
    "\n",
    "def cost_function(from_index, to_index):\n",
    "    \"\"\"Cost function for OR Tools\"\"\"\n",
    "    from_station = stations[manager.IndexToNode(from_index)]\n",
    "    to_station = stations[manager.IndexToNode(to_index)]\n",
    "    return as_the_bird_flies(from_station, to_station)"
   ]
  },
  {
   "cell_type": "code",
   "execution_count": null,
   "metadata": {},
   "outputs": [],
   "source": [
    "# not a particularly Pythonic API...\n",
    "callback_ptr = routing.RegisterTransitCallback(cost_function)\n",
    "routing.SetArcCostEvaluatorOfAllVehicles(callback_ptr)\n",
    "search_parameters = pywrapcp.DefaultRoutingSearchParameters()\n",
    "search_parameters.time_limit.seconds = 120\n",
    "\n",
    "# This lines will run for a few minutes!\n",
    "assignment = routing.SolveWithParameters(search_parameters)"
   ]
  },
  {
   "cell_type": "code",
   "execution_count": null,
   "metadata": {},
   "outputs": [],
   "source": [
    "total_dist = assignment.ObjectiveValue()\n",
    "print(f\"Distance: {total_dist/1000:.3} km ({total_dist/1609:.3} mi)\")"
   ]
  },
  {
   "cell_type": "code",
   "execution_count": null,
   "metadata": {},
   "outputs": [],
   "source": [
    "def route_from_ortools_solution(assignment, routing, manager):\n",
    "    index = routing.Start(0)\n",
    "    route = []\n",
    "    while not routing.IsEnd(index):\n",
    "        previous_index = index\n",
    "        index = assignment.Value(routing.NextVar(index))\n",
    "        route.append((\n",
    "            stations[manager.IndexToNode(previous_index)],\n",
    "            stations[manager.IndexToNode(index)]\n",
    "        ))\n",
    "    return route\n",
    "\n",
    "route = route_from_ortools_solution(assignment, routing, manager)"
   ]
  },
  {
   "cell_type": "code",
   "execution_count": null,
   "metadata": {},
   "outputs": [],
   "source": [
    "routemap = basemap(stations)\n",
    "\n",
    "for st1, st2 in route:\n",
    "    folium.PolyLine([st1.latlon, st2.latlon]).add_to(routemap)\n",
    "\n",
    "routemap"
   ]
  },
  {
   "cell_type": "markdown",
   "metadata": {},
   "source": [
    "# Step 4: Real cycling directions from Mapbox"
   ]
  },
  {
   "cell_type": "code",
   "execution_count": null,
   "metadata": {},
   "outputs": [],
   "source": [
    "import mapbox\n",
    "\n",
    "service = mapbox.Directions(access_token=\"pk.eyJ1Ijoiam9uZW1vIiwiYSI6ImNqaXJ6MWV1ZjFtcTUzdm1mMWZ0YXNsZ2oifQ.6zNZ3Eadouh2aFfEtbIdew\", host=\"localhost:8001\")"
   ]
  },
  {
   "cell_type": "code",
   "execution_count": null,
   "metadata": {},
   "outputs": [],
   "source": [
    "class Route(NamedTuple):\n",
    "    distance: float\n",
    "    duration: float\n",
    "    polyline: folium.PolyLine\n",
    "\n",
    "\n",
    "def get_route_from_mapbox(from_station, to_station):\n",
    "    \"\"\"Fetch directions from Mapbox API and turn into Folium polyline\"\"\"\n",
    "    resp = service.directions(\n",
    "        [from_station.lonlat, to_station.lonlat],\n",
    "        profile=\"mapbox/cycling\",\n",
    "        geometries=\"polyline\",\n",
    "    ).geojson()\n",
    "    \n",
    "    # flip coordinates from lon/lat to lat/lon\n",
    "    coordinates = resp[\"features\"][0][\"geometry\"][\"coordinates\"]\n",
    "    flipped = [(lat, lon) for (lon, lat) in coordinates]\n",
    "    \n",
    "    return Route(\n",
    "        distance=resp[\"features\"][0][\"properties\"][\"distance\"],\n",
    "        duration=resp[\"features\"][0][\"properties\"][\"duration\"],\n",
    "        polyline=folium.PolyLine(flipped),\n",
    "    )"
   ]
  },
  {
   "cell_type": "code",
   "execution_count": null,
   "metadata": {},
   "outputs": [],
   "source": [
    "import itertools\n",
    "\n",
    "frommapbox = {}\n",
    "for from_station, to_station in itertools.combinations(stations, 2):\n",
    "    \n",
    "    # If the straight line distance is less than one and a half\n",
    "    # miles, then get the cycling distance from the Mapbox API.\n",
    "    straight_line = as_the_bird_flies(from_station, to_station)\n",
    "    if straight_line < 1.5 * 1609:\n",
    "        \n",
    "        # Both directions because the route might be different\n",
    "        # due to one-way streets, etc.\n",
    "        frommapbox[(from_station, to_station)] = \\\n",
    "            get_route_from_mapbox(from_station, to_station)\n",
    "        frommapbox[(to_station, from_station)] = \\\n",
    "            get_route_from_mapbox(to_station, from_station)"
   ]
  },
  {
   "cell_type": "code",
   "execution_count": null,
   "metadata": {},
   "outputs": [],
   "source": [
    "from random import sample\n",
    "debugmap = basemap(stations)\n",
    "\n",
    "for st1, st2 in sample(frommapbox.keys(), 500):\n",
    "    folium.PolyLine([st1.latlon, st2.latlon], weight=1).add_to(debugmap)\n",
    "    \n",
    "debugmap"
   ]
  },
  {
   "cell_type": "code",
   "execution_count": null,
   "metadata": {},
   "outputs": [],
   "source": [
    "debugmap2 = basemap(stations)\n",
    "frommapbox[(stations[4], stations[10])].polyline.add_to(debugmap2)\n",
    "debugmap2"
   ]
  },
  {
   "cell_type": "markdown",
   "metadata": {},
   "source": [
    "# Step 5: Traveling Salesman, take 2"
   ]
  },
  {
   "cell_type": "code",
   "execution_count": null,
   "metadata": {},
   "outputs": [],
   "source": [
    "def cost_function_2(from_index, to_index):\n",
    "    \"\"\"Cost function for OR Tools\"\"\"\n",
    "    from_station = stations[manager.IndexToNode(from_index)]\n",
    "    to_station = stations[manager.IndexToNode(to_index)]\n",
    "    \n",
    "    try:\n",
    "        route = frommapbox[(from_station, to_station)]\n",
    "        return int(route.duration)  # in seconds\n",
    "    \n",
    "    except KeyError:\n",
    "        # overestimate duration for routes we don't\n",
    "        # have directions for (really want to avoid them)\n",
    "        return as_the_bird_flies(from_station, to_station) * 5"
   ]
  },
  {
   "cell_type": "code",
   "execution_count": null,
   "metadata": {},
   "outputs": [],
   "source": [
    "manager_2 = pywrapcp.RoutingIndexManager(len(stations), 1, 0)\n",
    "routing_2 = pywrapcp.RoutingModel(manager_2)\n",
    "callback_ptr_2 = routing_2.RegisterTransitCallback(cost_function_2)\n",
    "routing_2.SetArcCostEvaluatorOfAllVehicles(callback_ptr_2)\n",
    "search_parameters_2 = pywrapcp.DefaultRoutingSearchParameters()\n",
    "search_parameters_2.first_solution_strategy = (\n",
    "    routing_enums_pb2.FirstSolutionStrategy.PATH_CHEAPEST_ARC)\n",
    "assignment_2 = routing_2.SolveWithParameters(search_parameters_2)"
   ]
  },
  {
   "cell_type": "code",
   "execution_count": null,
   "metadata": {},
   "outputs": [],
   "source": [
    "total_dist = assignment_2.ObjectiveValue()\n",
    "print(f\"Duration: {total_dist/3600:.3} hrs\")"
   ]
  },
  {
   "cell_type": "code",
   "execution_count": null,
   "metadata": {},
   "outputs": [],
   "source": [
    "route_2 = route_from_ortools_solution(assignment_2, routing_2, manager_2)"
   ]
  },
  {
   "cell_type": "code",
   "execution_count": null,
   "metadata": {},
   "outputs": [],
   "source": [
    "routemap_2 = basemap(stations)\n",
    "\n",
    "for st1, st2 in route_2:\n",
    "    try:\n",
    "        polyline = frommapbox[(st1, st2)].polyline\n",
    "        polyline.add_to(routemap_2)\n",
    "    except KeyError:\n",
    "        folium.PolyLine([st1.latlon, st2.latlon], color=\"pink\").add_to(routemap_2)\n",
    "\n",
    "routemap_2"
   ]
  },
  {
   "cell_type": "code",
   "execution_count": null,
   "metadata": {},
   "outputs": [],
   "source": [
    "def cost_function_3(from_index, to_index):\n",
    "    \"\"\"Cost function for OR Tools\"\"\"\n",
    "    from_station = stations[manager.IndexToNode(from_index)]\n",
    "    to_station = stations[manager.IndexToNode(to_index)]\n",
    "    \n",
    "    try:\n",
    "        route = frommapbox[(from_station, to_station)]\n",
    "        return int(abs(120 - route.duration))  # seconds\n",
    "    \n",
    "    except KeyError:\n",
    "        # grossly overestimate duration for routes we don't\n",
    "        # have directions for (really want to avoid them)\n",
    "        return as_the_bird_flies(from_station, to_station) * 5"
   ]
  },
  {
   "cell_type": "code",
   "execution_count": null,
   "metadata": {},
   "outputs": [],
   "source": [
    "manager_3 = pywrapcp.RoutingIndexManager(len(stations), 1, 0)\n",
    "routing_3 = pywrapcp.RoutingModel(manager_3)\n",
    "callback_ptr_3 = routing_3.RegisterTransitCallback(cost_function_3)\n",
    "routing_3.SetArcCostEvaluatorOfAllVehicles(callback_ptr_3)\n",
    "search_parameters_3 = pywrapcp.DefaultRoutingSearchParameters()\n",
    "search_parameters_3.first_solution_strategy = (\n",
    "    routing_enums_pb2.FirstSolutionStrategy.PATH_CHEAPEST_ARC)\n",
    "assignment_3 = routing_3.SolveWithParameters(search_parameters_3)"
   ]
  },
  {
   "cell_type": "code",
   "execution_count": null,
   "metadata": {},
   "outputs": [],
   "source": [
    "route_3 = route_from_ortools_solution(assignment_3, routing_3, manager_3)"
   ]
  },
  {
   "cell_type": "code",
   "execution_count": null,
   "metadata": {},
   "outputs": [],
   "source": [
    "routemap_3 = basemap(stations)\n",
    "\n",
    "for st1, st2 in route_3:\n",
    "    polyline = frommapbox[(st1, st2)].polyline\n",
    "    polyline.add_to(routemap_3)\n",
    "\n",
    "routemap_3"
   ]
  },
  {
   "cell_type": "code",
   "execution_count": null,
   "metadata": {},
   "outputs": [],
   "source": [
    "routemap_3.save(\"mapexport.html\")"
   ]
  }
 ],
 "metadata": {
  "kernelspec": {
   "display_name": "Python 3",
   "language": "python",
   "name": "python3"
  },
  "language_info": {
   "codemirror_mode": {
    "name": "ipython",
    "version": 3
   },
   "file_extension": ".py",
   "mimetype": "text/x-python",
   "name": "python",
   "nbconvert_exporter": "python",
   "pygments_lexer": "ipython3",
   "version": "3.7.5"
  }
 },
 "nbformat": 4,
 "nbformat_minor": 2
}
